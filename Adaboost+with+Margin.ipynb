{
 "cells": [
  {
   "cell_type": "code",
   "execution_count": 1,
   "metadata": {},
   "outputs": [],
   "source": [
    "from sklearn.tree import DecisionTreeClassifier\n",
    "import math\n",
    "from sklearn.ensemble import AdaBoostClassifier\n",
    "import numpy as np\n",
    "import matplotlib.pyplot as plt\n",
    "from matplotlib.colors import ListedColormap\n",
    "from sklearn.preprocessing import StandardScaler\n",
    "import pandas as pd\n",
    "import seaborn as sns\n",
    "% matplotlib inline\n",
    "import csv\n",
    "from sklearn import preprocessing\n",
    "from sklearn.model_selection import cross_val_score\n",
    "import random"
   ]
  },
  {
   "cell_type": "code",
   "execution_count": 2,
   "metadata": {},
   "outputs": [],
   "source": [
    "def get_error_rate(pred, Y):\n",
    "    d = zip(pred,Y)\n",
    "    err = 0.0\n",
    "    for (a,b) in d:\n",
    "        if not(a==b or (a==-1 and b==0)):\n",
    "            err += 1.0\n",
    "    \n",
    "    return (err / float(len(Y)))"
   ]
  },
  {
   "cell_type": "code",
   "execution_count": 3,
   "metadata": {},
   "outputs": [],
   "source": [
    "def adaboost(X_train, Y_train, X_test, Y_test, rounds, classifier, margin = 0):\n",
    "    # Initialize Weights as 1/m for each data point in the distribution\n",
    "    weights = np.ones(len(X_train)) / len(X_train)\n",
    "    full_preds_train = [0]*len(X_train)\n",
    "    full_preds_test = [0]*len(X_test)\n",
    "    \n",
    "    for k in range(rounds):\n",
    "        classifier.fit(X_train, Y_train, sample_weight = weights)\n",
    "        \n",
    "        predictions_train = classifier.predict(X_train)\n",
    "        predictions_test = classifier.predict(X_test)\n",
    "        testing = zip(predictions_train, Y_train)\n",
    "        wrong_preds_train = []\n",
    "        # 1/-1 values\n",
    "        neg_pos = []\n",
    "        \n",
    "        for (p,y) in testing:\n",
    "            if p!=y:\n",
    "                wrong_preds_train.append(1)\n",
    "                neg_pos.append(-1)\n",
    "            else:\n",
    "                wrong_preds_train.append(0)\n",
    "                neg_pos.append(1)\n",
    "                \n",
    "        err_t = np.dot(weights,wrong_preds_train)/sum(weights)\n",
    "        alpha_t = 0.5*np.log((1-err_t)/err_t)+0.5*np.log((1.0-margin)/(margin+1.0))\n",
    "        Z_t = 2*math.sqrt(err_t*(1-err_t)/((1.0-margin)*(1.0+margin)))\n",
    "        \n",
    "        for i in range(len(weights)):\n",
    "            weights[i] *= np.exp(-1*alpha_t*neg_pos[i])/Z_t\n",
    "        \n",
    "        p_train = [x*alpha_t for x in predictions_train]\n",
    "        p_test = [x*alpha_t for x in predictions_test]\n",
    "        \n",
    "        \n",
    "        for i in range(len(full_preds_train)):\n",
    "            full_preds_train[i] += p_train[i]\n",
    "        for i in range(len(full_preds_test)):\n",
    "            full_preds_test[i] += p_test[i]\n",
    "    signs_preds_train = (np.sign(full_preds_train)).tolist()\n",
    "    signs_pred_test = (np.sign(full_preds_test)).tolist()        \n",
    "        \n",
    "    return (get_error_rate(signs_preds_train,Y_train),get_error_rate(signs_pred_test, Y_test))        \n",
    "    "
   ]
  },
  {
   "cell_type": "code",
   "execution_count": 4,
   "metadata": {},
   "outputs": [],
   "source": [
    "def plot_error_rate(x, er_train, er_test, baseline_test):\n",
    "    plt.plot(x,er_test, linestyle='-', marker='o', color='red', label = \"Test\")\n",
    "    plt.plot(x,er_train, linestyle='-', marker='o', color='darkblue', label = \"Train\")\n",
    "    plt.axhline(y=baseline_test, linewidth=1, color = 'red', ls = 'dashed', label = 'baseline')\n",
    "    plt.xlabel('Number of iterations', fontsize = 12)\n",
    "    plt.ylabel('Accuracy (1- error)', fontsize = 12)\n",
    "    plt.title('Accuracy vs number of iterations', fontsize = 16)    \n",
    "    plt.legend()\n",
    "    plt.show()"
   ]
  },
  {
   "cell_type": "code",
   "execution_count": 5,
   "metadata": {},
   "outputs": [],
   "source": [
    "def cleanup(arr):\n",
    "    for i in range(len(arr)):\n",
    "        if arr[i]==0:\n",
    "            arr[i] = -1  \n",
    "    return arr"
   ]
  },
  {
   "cell_type": "code",
   "execution_count": 6,
   "metadata": {},
   "outputs": [],
   "source": [
    "def plot_margin(frac, rho, clr):\n",
    "    x = [0,0.2,0.4,0.6,0.8,1.0]\n",
    "    plt.plot(x, frac, linestyle='-', marker='o', c=clr, label = format(rho,'.2f'))\n",
    "    plt.xlabel('Theta', fontsize = 12)\n",
    "    plt.ylabel('Fraction of training points with margin <= theta', fontsize = 12)\n",
    "    plt.title('Margins', fontsize = 16)    \n",
    "    plt.legend(loc = \"lower right\")\n",
    "    return plt\n",
    "    "
   ]
  },
  {
   "cell_type": "code",
   "execution_count": 7,
   "metadata": {},
   "outputs": [
    {
     "name": "stdout",
     "output_type": "stream",
     "text": [
      "Fitting Decision Tree..\n",
      "Getting initial error rate..\n",
      "Baseline Accuracy:  0.7933333333333333 0.795\n",
      "Margin: 0\n",
      "Starting Adaboost..\n",
      "Round:  100\n",
      "Starting Adaboost..\n",
      "Round:  200\n",
      "Starting Adaboost..\n",
      "Round:  500\n",
      "Starting Adaboost..\n",
      "Round:  1000\n"
     ]
    },
    {
     "data": {
      "image/png": "[encoded data removed]",
      "text/plain": [
       "<matplotlib.figure.Figure at 0x7fa8a872f630>"
      ]
     },
     "metadata": {},
     "output_type": "display_data"
    },
    {
     "name": "stdout",
     "output_type": "stream",
     "text": [
      "Margin: 0.00390625\n",
      "Starting Adaboost..\n",
      "Round:  100\n",
      "Starting Adaboost..\n",
      "Round:  200\n",
      "Starting Adaboost..\n",
      "Round:  500\n",
      "Starting Adaboost..\n",
      "Round:  1000\n"
     ]
    },
    {
     "data": {
      "image/png": "[encoded data removed]",
      "text/plain": [
       "<matplotlib.figure.Figure at 0x7fa879f3f748>"
      ]
     },
     "metadata": {},
     "output_type": "display_data"
    },
    {
     "name": "stdout",
     "output_type": "stream",
     "text": [
      "Best Accuracy Obtained:  0.95  with # of rounds:  1000  & margin:  0\n"
     ]
    }
   ],
   "source": [
    "if __name__ == '__main__':\n",
    "    \n",
    "    # Read data\n",
    "    df = pd.read_csv('spambase.csv',header=None,delimiter=',')\n",
    "    output = df[57]\n",
    "    df = df.drop(57,1)\n",
    "    \n",
    "    X_scaled = preprocessing.scale(df)\n",
    "    X_train = X_scaled[0:3000]\n",
    "    Y_train = output[0:3000]\n",
    "    Y_train = Y_train.as_matrix()\n",
    "    Y_train = cleanup(Y_train)\n",
    "    \n",
    "    X_test= X_scaled[3001:]\n",
    "    Y_test = output[3001:]\n",
    "    Y_test = Y_test.as_matrix()\n",
    "    Y_test = cleanup(Y_test)\n",
    "    \n",
    "    # Fit a simple decision tree first\n",
    "    print (\"Fitting Decision Tree..\")\n",
    "    clf = DecisionTreeClassifier(max_depth = 1, random_state = 1)\n",
    "    clf.fit(X_train,Y_train)\n",
    "    \n",
    "    pred_train = clf.predict(X_train)\n",
    "    pred_test = clf.predict(X_test)\n",
    "    \n",
    "    print (\"Getting initial error rate..\")\n",
    "\n",
    "    baseline_test = 1.0-get_error_rate(pred_test, Y_test)\n",
    "    \n",
    "    print (\"Baseline Accuracy: \",1.0-get_error_rate(pred_train, Y_train), baseline_test)\n",
    "    x = [100,200,500,1000]\n",
    "    m = [0, 2**-8]\n",
    "    best_rho = -12\n",
    "    best_rounds = 0\n",
    "    best_acc = -999\n",
    "    for rho in m:\n",
    "        err_train= []\n",
    "        err_test = []\n",
    "        mgn = []\n",
    "        print (\"Margin: \"+str(rho)) \n",
    "        for rounds in x:\n",
    "            print (\"Starting Adaboost..\")\n",
    "            print (\"Round: \",rounds)\n",
    "            (e_train,e_test) = adaboost(X_train, Y_train, X_test, Y_test, rounds, clf, rho)\n",
    "            err_train.append(1.0-e_train)\n",
    "            err_test.append(1.0-e_test)\n",
    "            if (1.0-e_test)>best_acc:\n",
    "                best_acc = (1.0-e_test)\n",
    "                best_rho = rho\n",
    "                best_rounds = rounds\n",
    "                \n",
    "        # Compare error rate vs number of iterations\n",
    "        plot_error_rate(x, err_train, err_test, baseline_test)\n",
    "\n",
    "    plt.show()\n",
    "    print (\"Best Accuracy Obtained: \",best_acc,\" with # of rounds: \",rounds,\" & margin: \",best_rho)"
   ]
  },
  {
   "cell_type": "code",
   "execution_count": null,
   "metadata": {},
   "outputs": [],
   "source": []
  }
 ],
 "metadata": {
  "kernelspec": {
   "display_name": "Python 3",
   "language": "python",
   "name": "python3"
  },
  "language_info": {
   "codemirror_mode": {
    "name": "ipython",
    "version": 3
   },
   "file_extension": ".py",
   "mimetype": "text/x-python",
   "name": "python",
   "nbconvert_exporter": "python",
   "pygments_lexer": "ipython3",
   "version": "3.6.2"
  }
 },
 "nbformat": 4,
 "nbformat_minor": 2
}
